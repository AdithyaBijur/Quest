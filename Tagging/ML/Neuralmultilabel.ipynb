{
 "cells": [
  {
   "cell_type": "code",
   "execution_count": 24,
   "metadata": {},
   "outputs": [],
   "source": [
    "from __future__ import absolute_import\n",
    "from __future__ import division\n",
    "from __future__ import print_function"
   ]
  },
  {
   "cell_type": "code",
   "execution_count": 25,
   "metadata": {},
   "outputs": [
    {
     "name": "stdout",
     "output_type": "stream",
     "text": [
      "You have TensorFlow version 1.13.1\n"
     ]
    }
   ],
   "source": [
    "import itertools\n",
    "import os\n",
    "\n",
    "%matplotlib inline\n",
    "import matplotlib.pyplot as plt\n",
    "import numpy as np\n",
    "import pandas as pd\n",
    "import tensorflow as tf\n",
    "\n",
    "from sklearn.preprocessing import LabelBinarizer, LabelEncoder\n",
    "from sklearn.feature_extraction.text import CountVectorizer\n",
    "from sklearn.feature_extraction.text import TfidfVectorizer\n",
    "from sklearn.metrics import confusion_matrix\n",
    "\n",
    "from tensorflow import keras\n",
    "from keras.models import Sequential\n",
    "from keras.layers import Dense, Activation, Dropout\n",
    "from keras.preprocessing import text, sequence\n",
    "from keras import utils\n",
    "\n",
    "# This code was tested with TensorFlow v1.4\n",
    "print(\"You have TensorFlow version\", tf.__version__)"
   ]
  },
  {
   "cell_type": "code",
   "execution_count": 26,
   "metadata": {},
   "outputs": [
    {
     "data": {
      "text/plain": [
       "['java']                                                             7026\n",
       "['c#']                                                               4983\n",
       "['php']                                                              4727\n",
       "['javascript']                                                       4527\n",
       "['python']                                                           3879\n",
       "['c++']                                                              3174\n",
       "['javascript', 'jquery']                                             2652\n",
       "['java', 'android']                                                  1562\n",
       "['c#', 'asp.net']                                                    1547\n",
       "['r']                                                                1462\n",
       "['c#', '.net']                                                       1423\n",
       "['c']                                                                1393\n",
       "['ruby-on-rails']                                                    1219\n",
       "['php', 'mysql']                                                     1151\n",
       "['c#', 'winforms']                                                    782\n",
       "['javascript', 'angularjs']                                           751\n",
       "['javascript', 'html']                                                745\n",
       "['ruby']                                                              724\n",
       "['javascript', 'jquery', 'html']                                      696\n",
       "['c#', 'wpf']                                                         672\n",
       "['ruby-on-rails', 'ruby']                                             665\n",
       "['django']                                                            664\n",
       "['python', 'django']                                                  663\n",
       "['objective-c']                                                       651\n",
       "['java', 'swing']                                                     640\n",
       "['vb.net']                                                            626\n",
       "['ios', 'objective-c']                                                566\n",
       "['java', 'spring']                                                    524\n",
       "['ios', 'swift']                                                      506\n",
       "['iphone', 'objective-c']                                             491\n",
       "                                                                     ... \n",
       "['ruby', 'regex', 'file']                                               1\n",
       "['python', 'class', 'oop', 'unit-testing']                              1\n",
       "['.net', 'iphone', 'objective-c']                                       1\n",
       "['regex', 'r', 'list']                                                  1\n",
       "['iphone', 'ruby-on-rails', 'ios']                                      1\n",
       "['c#', 'string', 'csv']                                                 1\n",
       "['c#', 'asp.net', 'sql-server', 'database', 'visual-studio-2010']       1\n",
       "['java', 'performance', 'file', 'servlets']                             1\n",
       "['iphone', 'objective-c', 'visual-studio', 'osx']                       1\n",
       "['php', 'mysql', 'sql', 'datetime']                                     1\n",
       "['java', 'jsp', 'maven', 'servlets']                                    1\n",
       "['java', 'list', 'pointers']                                            1\n",
       "['javascript', 'php', 'jquery', 'apache']                               1\n",
       "['objective-c', 'ios', 'performance']                                   1\n",
       "['c#', 'jquery', 'asp.net', '.net', 'ajax']                             1\n",
       "['iphone', 'objective-c', 'cocoa-touch', 'osx']                         1\n",
       "['javascript', 'python', 'ajax', 'json']                                1\n",
       "['json', 'loops', 'swift']                                              1\n",
       "['python', 'string', 'file', 'python-3.x']                              1\n",
       "['python', 'arrays', 'python-2.7', 'csv', 'numpy']                      1\n",
       "['objective-c', 'image', 'osx']                                         1\n",
       "['objective-c', 'xcode', 'servlets']                                    1\n",
       "['c#', 'linq', 'list', 'sorting']                                       1\n",
       "['java', 'android', 'xml', 'rest']                                      1\n",
       "['vb.net', 'string', 'loops']                                           1\n",
       "['asp.net', 'vb.net', 'session']                                        1\n",
       "['java', 'android', 'sql', 'database']                                  1\n",
       "['java', 'ajax', 'multithreading']                                      1\n",
       "['c#', 'excel', 'datetime']                                             1\n",
       "['c#', 'c++', 'c', 'visual-studio-2010']                                1\n",
       "Name: tags, Length: 7069, dtype: int64"
      ]
     },
     "execution_count": 26,
     "metadata": {},
     "output_type": "execute_result"
    }
   ],
   "source": [
    "data = pd.read_csv(\"C:/Users/Adithya/Desktop/train.csv\")\n",
    "data.head()\n",
    "data['tags'].value_counts()\n",
    "\n"
   ]
  },
  {
   "cell_type": "code",
   "execution_count": 4,
   "metadata": {},
   "outputs": [
    {
     "name": "stdout",
     "output_type": "stream",
     "text": [
      "Train size: 80000\n",
      "Test size: 20000\n"
     ]
    }
   ],
   "source": [
    "train_size = int(len(data) * .8)\n",
    "print (\"Train size: %d\" % train_size)\n",
    "print (\"Test size: %d\" % (len(data) - train_size))"
   ]
  },
  {
   "cell_type": "code",
   "execution_count": 27,
   "metadata": {},
   "outputs": [],
   "source": [
    "train_posts = data['title'][:train_size]\n",
    "train_tags = data['tags'][:train_size]\n",
    "\n",
    "test_posts = data['title'][train_size:]\n",
    "test_tags = data['tags'][train_size:]"
   ]
  },
  {
   "cell_type": "code",
   "execution_count": 28,
   "metadata": {},
   "outputs": [],
   "source": [
    "max_words = 15000\n",
    "tokenize = text.Tokenizer(num_words=max_words, char_level=False)"
   ]
  },
  {
   "cell_type": "code",
   "execution_count": null,
   "metadata": {},
   "outputs": [],
   "source": [
    "\n",
    "tokenize.fit_on_texts(train_posts) # only fit on train\n",
    "x_test = tokenize.texts_to_matrix(test_posts)\n",
    "x_train = tokenize.texts_to_matrix(train_posts)\n"
   ]
  },
  {
   "cell_type": "code",
   "execution_count": 8,
   "metadata": {},
   "outputs": [
    {
     "name": "stdout",
     "output_type": "stream",
     "text": [
      "(20000, 15000)\n"
     ]
    }
   ],
   "source": [
    "print(x_test.shape)"
   ]
  },
  {
   "cell_type": "code",
   "execution_count": 9,
   "metadata": {},
   "outputs": [],
   "source": [
    "encoder = LabelEncoder()\n",
    "encoder.fit(train_tags)\n",
    "test_tags = test_tags.map(lambda s: '<unknown>' if s not in encoder.classes_ else s)\n",
    "encoder.classes_ = np.append(encoder.classes_, '<unknown>')\n",
    "y_train = encoder.transform(train_tags)\n",
    "y_test = encoder.transform(test_tags)"
   ]
  },
  {
   "cell_type": "code",
   "execution_count": 10,
   "metadata": {},
   "outputs": [],
   "source": [
    "num_classes = np.max(y_train)+2\n",
    "y_train = utils.to_categorical(y_train, num_classes)\n",
    "y_test = utils.to_categorical(y_test, num_classes)"
   ]
  },
  {
   "cell_type": "code",
   "execution_count": 11,
   "metadata": {},
   "outputs": [
    {
     "name": "stdout",
     "output_type": "stream",
     "text": [
      "x_train shape: (80000, 15000)\n",
      "x_test shape: (20000, 15000)\n",
      "y_train shape: (80000, 6214)\n",
      "y_test shape: (20000, 6214)\n"
     ]
    }
   ],
   "source": [
    "print('x_train shape:', x_train.shape)\n",
    "print('x_test shape:', x_test.shape)\n",
    "print('y_train shape:', y_train.shape)\n",
    "print('y_test shape:', y_test.shape)"
   ]
  },
  {
   "cell_type": "code",
   "execution_count": 15,
   "metadata": {},
   "outputs": [],
   "source": [
    "# This model trains very quickly and 2 epochs are already more than enough\n",
    "# Training for more epochs will likely lead to overfitting on this dataset\n",
    "# You can try tweaking these hyperparamaters when using this model with your own data\n",
    "batch_size = 32\n",
    "epochs = 2"
   ]
  },
  {
   "cell_type": "code",
   "execution_count": 16,
   "metadata": {},
   "outputs": [],
   "source": [
    "model = Sequential()\n",
    "model.add(Dense(512, input_shape=(max_words,)))\n",
    "model.add(Activation('relu'))\n",
    "model.add(Dropout(0.3))\n",
    "model.add(Dense(num_classes))\n",
    "model.add(Activation('softmax'))\n",
    "\n",
    "model.compile(loss='categorical_crossentropy',\n",
    "              optimizer='adam',\n",
    "              metrics=['accuracy'])"
   ]
  },
  {
   "cell_type": "code",
   "execution_count": 17,
   "metadata": {},
   "outputs": [
    {
     "name": "stdout",
     "output_type": "stream",
     "text": [
      "Train on 72000 samples, validate on 8000 samples\n",
      "Epoch 1/2\n",
      "72000/72000 [==============================] - 649s 9ms/step - loss: 4.8335 - acc: 0.2890 - val_loss: 4.1187 - val_acc: 0.3636\n",
      "Epoch 2/2\n",
      "72000/72000 [==============================] - 644s 9ms/step - loss: 3.4515 - acc: 0.4165 - val_loss: 3.7879 - val_acc: 0.3955\n"
     ]
    }
   ],
   "source": [
    "\n",
    "# model.fit trains the model\n",
    "# The validation_split param tells Keras what % of our training data should be used in the validation set\n",
    "# You can see the validation loss decreasing slowly when you run this\n",
    "# Because val_loss is no longer decreasing we stop training to prevent overfitting\n",
    "history = model.fit(x_train, y_train,\n",
    "                    batch_size=batch_size,\n",
    "                    epochs=epochs,\n",
    "                    verbose=1,\n",
    "                    validation_split=0.1)"
   ]
  },
  {
   "cell_type": "code",
   "execution_count": 18,
   "metadata": {},
   "outputs": [
    {
     "name": "stdout",
     "output_type": "stream",
     "text": [
      "20000/20000 [==============================] - 28s 1ms/step\n",
      "Test score: 3.7903459596633913\n",
      "Test accuracy: 0.3995\n"
     ]
    }
   ],
   "source": [
    "score = model.evaluate(x_test, y_test,\n",
    "                       batch_size=batch_size, verbose=1)\n",
    "print('Test score:', score[0])\n",
    "print('Test accuracy:', score[1])"
   ]
  },
  {
   "cell_type": "code",
   "execution_count": 19,
   "metadata": {},
   "outputs": [
    {
     "name": "stdout",
     "output_type": "stream",
     "text": [
      "Scrapy spider not found error ...\n",
      "Actual label:['python']\n",
      "Predicted label: ['python']\n",
      "\n",
      "How to transform json data to a comma separated ph ...\n",
      "Actual label:['php', 'json']\n",
      "Predicted label: ['php', 'json']\n",
      "\n",
      "Jquery UI datepicker, onclick of a date , get the  ...\n",
      "Actual label:['javascript', 'jquery', 'date']\n",
      "Predicted label: ['javascript', 'jquery']\n",
      "\n",
      "Get primary key of Eloquent model instance ...\n",
      "Actual label:['php', 'mysql', 'laravel']\n",
      "Predicted label: ['php']\n",
      "\n",
      "Best way to save variables between postbacks asp.n ...\n",
      "Actual label:['c#', 'asp.net', '.net']\n",
      "Predicted label: ['c#', 'asp.net']\n",
      "\n",
      "Mongoose Not Creating Indexes ...\n",
      "Actual label:['javascript', 'node.js', 'mongodb']\n",
      "Predicted label: ['javascript', 'node.js', 'mongodb']\n",
      "\n",
      "OPENCV waitKey() method return type ...\n",
      "Actual label:['c++', 'opencv']\n",
      "Predicted label: ['c++', 'opencv']\n",
      "\n",
      "how to use macro for a unsigned long number? ...\n",
      "Actual label:['c++', 'c']\n",
      "Predicted label: ['c++']\n",
      "\n",
      "Xcode swift failed with exit code 254 ...\n",
      "Actual label:['ios', 'xcode', 'swift']\n",
      "Predicted label: ['ios', 'swift']\n",
      "\n",
      "Get value by family in HBase ...\n",
      "Actual label:['java']\n",
      "Predicted label: ['java']\n",
      "\n",
      "Openlayers - Projection issues when getting latitu ...\n",
      "Actual label:['javascript']\n",
      "Predicted label: ['javascript']\n",
      "\n",
      "How to implement a custom local DNS service in Jav ...\n",
      "Actual label:['java']\n",
      "Predicted label: ['java']\n",
      "\n",
      "Spring Boot Executable Jar with Classpath ...\n",
      "Actual label:['java', 'spring']\n",
      "Predicted label: ['java', 'spring']\n",
      "\n",
      "UITableView Index scrolling issue ...\n",
      "Actual label:['iphone', 'objective-c', 'ios', 'uitableview']\n",
      "Predicted label: ['ios', 'objective-c', 'uitableview']\n",
      "\n",
      "How to submit multiple form inputs as sets of seri ...\n",
      "Actual label:['php']\n",
      "Predicted label: ['javascript']\n",
      "\n",
      "CORS not working in Chrome ...\n",
      "Actual label:<unknown>\n",
      "Predicted label: ['javascript']\n",
      "\n",
      "cookie encryption ...\n",
      "Actual label:['java']\n",
      "Predicted label: ['php']\n",
      "\n",
      "Could not find \"application\" template or view. Not ...\n",
      "Actual label:['javascript']\n",
      "Predicted label: ['php']\n",
      "\n",
      "How to get duration in weeks with Moment.js? ...\n",
      "Actual label:['javascript']\n",
      "Predicted label: ['javascript']\n",
      "\n",
      "TCP/IP monitor missing from Eclipse ADT (Android D ...\n",
      "Actual label:['java', 'android', 'eclipse']\n",
      "Predicted label: ['java', 'android', 'eclipse']\n",
      "\n",
      "PHP: How to generate a <ul><li> tree in an xml2ass ...\n",
      "Actual label:['php']\n",
      "Predicted label: ['php', 'arrays']\n",
      "\n",
      "How to retry urllib2.request when fails? ...\n",
      "Actual label:['python']\n",
      "Predicted label: ['python']\n",
      "\n",
      "Overriding d3 funnel chart's default ...\n",
      "Actual label:['javascript']\n",
      "Predicted label: ['javascript']\n",
      "\n",
      "CSV files and multi line text cells ...\n",
      "Actual label:['php', 'excel', 'csv']\n",
      "Predicted label: ['python', 'csv']\n",
      "\n",
      "Disable scroll bar in header but not in content fo ...\n",
      "Actual label:['javascript', 'jquery', 'html', 'css']\n",
      "Predicted label: ['javascript', 'jquery']\n",
      "\n",
      "Exception in thread \"main\" java.lang.NoClassDefFou ...\n",
      "Actual label:['java']\n",
      "Predicted label: ['java']\n",
      "\n",
      "converting .mat files to XML -- need to add java c ...\n",
      "Actual label:['java', 'xml']\n",
      "Predicted label: ['java', 'xml']\n",
      "\n",
      "Bootstrap 2.3 Collapsible menu issues in android m ...\n",
      "Actual label:<unknown>\n",
      "Predicted label: ['java', 'android']\n",
      "\n",
      "Building a dynamic sql query from VB.NET ...\n",
      "Actual label:['sql', 'vb.net']\n",
      "Predicted label: ['vb.net']\n",
      "\n",
      "itextsharp: How to generate a report with dynamic  ...\n",
      "Actual label:['c#']\n",
      "Predicted label: ['c#']\n",
      "\n"
     ]
    }
   ],
   "source": [
    "text_labels = encoder.classes_ \n",
    "\n",
    "for i in range(30):\n",
    "    prediction = model.predict(np.array([x_test[i]]))\n",
    "    predicted_label = text_labels[np.argmax(prediction)]\n",
    "    print(test_posts.iloc[i][:50], \"...\")\n",
    "    print('Actual label:' + test_tags.iloc[i])\n",
    "    print(\"Predicted label: \" + predicted_label + \"\\n\")"
   ]
  },
  {
   "cell_type": "code",
   "execution_count": 213,
   "metadata": {},
   "outputs": [],
   "source": [
    "\n",
    "y_softmax = model.predict(x_test)\n",
    "\n",
    "y_test_1d = []\n",
    "y_pred_1d = []\n",
    "\n",
    "for i in range(len(y_test)):\n",
    "    probs = y_test[i]\n",
    "    index_arr = np.nonzero(probs)\n",
    "    one_hot_index = index_arr[0].item(0)\n",
    "    y_test_1d.append(one_hot_index)\n",
    "\n",
    "for i in range(0, len(y_softmax)):\n",
    "    probs = y_softmax[i]\n",
    "    predicted_index = np.argmax(probs)\n",
    "    y_pred_1d.append(predicted_index)"
   ]
  },
  {
   "cell_type": "code",
   "execution_count": 17,
   "metadata": {},
   "outputs": [],
   "source": [
    "def plot_confusion_matrix(cm, classes,\n",
    "                          title='Confusion matrix',\n",
    "                          cmap=plt.cm.Blues):\n",
    "    \"\"\"\n",
    "    This function prints and plots the confusion matrix.\n",
    "    Normalization can be applied by setting `normalize=True`.\n",
    "    \"\"\"\n",
    "\n",
    "    cm = cm.astype('float') / cm.sum(axis=1)[:, np.newaxis]\n",
    "\n",
    "    plt.imshow(cm, interpolation='nearest', cmap=cmap)\n",
    "    plt.title(title, fontsize=30)\n",
    "    plt.colorbar()\n",
    "    tick_marks = np.arange(len(classes))\n",
    "    plt.xticks(tick_marks, classes, rotation=45, fontsize=22)\n",
    "    plt.yticks(tick_marks, classes, fontsize=22)\n",
    "\n",
    "    fmt = '.2f'\n",
    "    thresh = cm.max() / 2.\n",
    "    for i, j in itertools.product(range(cm.shape[0]), range(cm.shape[1])):\n",
    "        plt.text(j, i, format(cm[i, j], fmt),\n",
    "                 horizontalalignment=\"center\",\n",
    "                 color=\"white\" if cm[i, j] > thresh else \"black\")\n",
    "\n",
    "    plt.ylabel('True label', fontsize=25)\n",
    "    plt.xlabel('Predicted label', fontsize=25)"
   ]
  },
  {
   "cell_type": "code",
   "execution_count": 38,
   "metadata": {},
   "outputs": [
    {
     "name": "stdout",
     "output_type": "stream",
     "text": [
      "['python']\n"
     ]
    }
   ],
   "source": [
    "text=['elif using dictionary but without excecute the values']\n",
    "yes = tokenize.texts_to_matrix(text)\n",
    "prediction = model.predict(np.array(yes))\n",
    "predicted_label = text_labels[np.argmax(prediction)]\n",
    "print(predicted_label)\n"
   ]
  },
  {
   "cell_type": "code",
   "execution_count": 308,
   "metadata": {},
   "outputs": [],
   "source": [
    "from keras.models import load_model\n",
    "model.save('/home/adithya/Desktop/my_model1.h5') "
   ]
  },
  {
   "cell_type": "code",
   "execution_count": null,
   "metadata": {},
   "outputs": [],
   "source": []
  }
 ],
 "metadata": {
  "kernelspec": {
   "display_name": "Python 3",
   "language": "python",
   "name": "python3"
  },
  "language_info": {
   "codemirror_mode": {
    "name": "ipython",
    "version": 3
   },
   "file_extension": ".py",
   "mimetype": "text/x-python",
   "name": "python",
   "nbconvert_exporter": "python",
   "pygments_lexer": "ipython3",
   "version": "3.7.1"
  }
 },
 "nbformat": 4,
 "nbformat_minor": 2
}
