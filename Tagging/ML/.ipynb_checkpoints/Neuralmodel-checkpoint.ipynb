{
 "cells": [
  {
   "cell_type": "code",
   "execution_count": 49,
   "metadata": {},
   "outputs": [],
   "source": [
    "from __future__ import absolute_import\n",
    "from __future__ import division\n",
    "from __future__ import print_function\n",
    "from sklearn.utils import shuffle"
   ]
  },
  {
   "cell_type": "code",
   "execution_count": 50,
   "metadata": {},
   "outputs": [
    {
     "name": "stdout",
     "output_type": "stream",
     "text": [
      "You have TensorFlow version 1.13.0-rc2\n"
     ]
    }
   ],
   "source": [
    "import itertools\n",
    "import os\n",
    "\n",
    "%matplotlib inline\n",
    "import matplotlib.pyplot as plt\n",
    "import numpy as np\n",
    "import pandas as pd\n",
    "import tensorflow as tf\n",
    "\n",
    "from sklearn.preprocessing import LabelBinarizer, LabelEncoder\n",
    "from sklearn.feature_extraction.text import CountVectorizer\n",
    "from sklearn.feature_extraction.text import TfidfVectorizer\n",
    "from sklearn.metrics import confusion_matrix\n",
    "\n",
    "from tensorflow import keras\n",
    "from keras.models import Sequential\n",
    "from keras.layers import Dense, Activation, Dropout\n",
    "from keras.preprocessing import text, sequence\n",
    "from keras import utils\n",
    "\n",
    "# This code was tested with TensorFlow v1.4\n",
    "print(\"You have TensorFlow version\", tf.__version__)"
   ]
  },
  {
   "cell_type": "code",
   "execution_count": 51,
   "metadata": {},
   "outputs": [
    {
     "data": {
      "text/html": [
       "<div>\n",
       "<style scoped>\n",
       "    .dataframe tbody tr th:only-of-type {\n",
       "        vertical-align: middle;\n",
       "    }\n",
       "\n",
       "    .dataframe tbody tr th {\n",
       "        vertical-align: top;\n",
       "    }\n",
       "\n",
       "    .dataframe thead th {\n",
       "        text-align: right;\n",
       "    }\n",
       "</style>\n",
       "<table border=\"1\" class=\"dataframe\">\n",
       "  <thead>\n",
       "    <tr style=\"text-align: right;\">\n",
       "      <th></th>\n",
       "      <th>post</th>\n",
       "      <th>tags</th>\n",
       "    </tr>\n",
       "  </thead>\n",
       "  <tbody>\n",
       "    <tr>\n",
       "      <th>31282</th>\n",
       "      <td>stack overflow when overloading &lt;&lt; operator &lt;p...</td>\n",
       "      <td>c++</td>\n",
       "    </tr>\n",
       "    <tr>\n",
       "      <th>37974</th>\n",
       "      <td>export gridview to ms word preserving formatti...</td>\n",
       "      <td>asp.net</td>\n",
       "    </tr>\n",
       "    <tr>\n",
       "      <th>4379</th>\n",
       "      <td>paperclip - attaching notes to images  am new ...</td>\n",
       "      <td>ruby-on-rails</td>\n",
       "    </tr>\n",
       "    <tr>\n",
       "      <th>9625</th>\n",
       "      <td>how can one ellicit a toast from a service to ...</td>\n",
       "      <td>android</td>\n",
       "    </tr>\n",
       "    <tr>\n",
       "      <th>7633</th>\n",
       "      <td>create new class on an existing winform  and a...</td>\n",
       "      <td>c#</td>\n",
       "    </tr>\n",
       "  </tbody>\n",
       "</table>\n",
       "</div>"
      ],
      "text/plain": [
       "                                                    post           tags\n",
       "31282  stack overflow when overloading << operator <p...            c++\n",
       "37974  export gridview to ms word preserving formatti...        asp.net\n",
       "4379   paperclip - attaching notes to images  am new ...  ruby-on-rails\n",
       "9625   how can one ellicit a toast from a service to ...        android\n",
       "7633   create new class on an existing winform  and a...             c#"
      ]
     },
     "execution_count": 51,
     "metadata": {},
     "output_type": "execute_result"
    }
   ],
   "source": [
    "data = pd.read_csv(\"/home/adithya/Desktop/stack-overflow-data.csv\")\n",
    "data=shuffle(data)\n",
    "data.head()\n",
    "\n"
   ]
  },
  {
   "cell_type": "code",
   "execution_count": 52,
   "metadata": {},
   "outputs": [
    {
     "name": "stdout",
     "output_type": "stream",
     "text": [
      "Train size: 33600\n",
      "Test size: 8401\n"
     ]
    }
   ],
   "source": [
    "train_size = int(len(data) * .8)\n",
    "print (\"Train size: %d\" % train_size)\n",
    "print (\"Test size: %d\" % (len(data) - train_size))"
   ]
  },
  {
   "cell_type": "code",
   "execution_count": 53,
   "metadata": {},
   "outputs": [],
   "source": [
    "train_posts = data['post'][:train_size]\n",
    "train_tags = data['tags'][:train_size]\n",
    "\n",
    "test_posts = data['post'][train_size:]\n",
    "test_tags = data['tags'][train_size:]"
   ]
  },
  {
   "cell_type": "code",
   "execution_count": 54,
   "metadata": {},
   "outputs": [],
   "source": [
    "max_words = 10000\n",
    "tokenize = text.Tokenizer(num_words=max_words, char_level=False)"
   ]
  },
  {
   "cell_type": "code",
   "execution_count": 55,
   "metadata": {},
   "outputs": [
    {
     "name": "stdout",
     "output_type": "stream",
     "text": [
      "[[0. 1. 1. ... 0. 0. 0.]\n",
      " [0. 1. 1. ... 0. 0. 0.]\n",
      " [0. 1. 1. ... 0. 0. 0.]\n",
      " ...\n",
      " [0. 1. 1. ... 0. 0. 0.]\n",
      " [0. 1. 1. ... 0. 0. 0.]\n",
      " [0. 1. 0. ... 0. 0. 0.]]\n"
     ]
    }
   ],
   "source": [
    "\n",
    "\n",
    "\n",
    "\n",
    "tokenize.fit_on_texts(train_posts) # only fit on train\n",
    "x_test = tokenize.texts_to_matrix(test_posts)\n",
    "x_train = tokenize.texts_to_matrix(train_posts)\n",
    "\n",
    "print(x_test)"
   ]
  },
  {
   "cell_type": "code",
   "execution_count": 56,
   "metadata": {},
   "outputs": [
    {
     "name": "stdout",
     "output_type": "stream",
     "text": [
      "(8401, 10000)\n"
     ]
    }
   ],
   "source": [
    "print(x_test.shape)"
   ]
  },
  {
   "cell_type": "code",
   "execution_count": 57,
   "metadata": {},
   "outputs": [],
   "source": [
    "encoder = LabelEncoder()\n",
    "encoder.fit(train_tags)\n",
    "test_tags = test_tags.map(lambda s: '<unknown>' if s not in encoder.classes_ else s)\n",
    "encoder.classes_ = np.append(encoder.classes_, '<unknown>')\n",
    "y_train = encoder.transform(train_tags)\n",
    "y_test = encoder.transform(test_tags)"
   ]
  },
  {
   "cell_type": "code",
   "execution_count": 58,
   "metadata": {},
   "outputs": [],
   "source": [
    "num_classes = np.max(y_train)+2\n",
    "y_train = utils.to_categorical(y_train, num_classes)\n",
    "y_test = utils.to_categorical(y_test, num_classes)"
   ]
  },
  {
   "cell_type": "code",
   "execution_count": 59,
   "metadata": {},
   "outputs": [
    {
     "name": "stdout",
     "output_type": "stream",
     "text": [
      "x_train shape: (33600, 10000)\n",
      "x_test shape: (8401, 10000)\n",
      "y_train shape: (33600, 22)\n",
      "y_test shape: (8401, 22)\n"
     ]
    }
   ],
   "source": [
    "print('x_train shape:', x_train.shape)\n",
    "print('x_test shape:', x_test.shape)\n",
    "print('y_train shape:', y_train.shape)\n",
    "print('y_test shape:', y_test.shape)"
   ]
  },
  {
   "cell_type": "code",
   "execution_count": 60,
   "metadata": {},
   "outputs": [],
   "source": [
    "# This model trains very quickly and 2 epochs are already more than enough\n",
    "# Training for more epochs will likely lead to overfitting on this dataset\n",
    "# You can try tweaking these hyperparamaters when using this model with your own data\n",
    "batch_size = 32\n",
    "epochs =2"
   ]
  },
  {
   "cell_type": "code",
   "execution_count": 61,
   "metadata": {},
   "outputs": [],
   "source": [
    "model = Sequential()\n",
    "model.add(Dense(512, input_shape=(max_words,)))\n",
    "model.add(Activation('relu'))\n",
    "model.add(Dropout(0.5))\n",
    "model.add(Dense(num_classes))\n",
    "model.add(Activation('softmax'))\n",
    "\n",
    "model.compile(loss='categorical_crossentropy',\n",
    "              optimizer='adam',\n",
    "              metrics=['accuracy'])"
   ]
  },
  {
   "cell_type": "code",
   "execution_count": 62,
   "metadata": {},
   "outputs": [
    {
     "name": "stdout",
     "output_type": "stream",
     "text": [
      "Train on 30240 samples, validate on 3360 samples\n",
      "Epoch 1/2\n",
      "30240/30240 [==============================] - 80s 3ms/step - loss: 0.8638 - acc: 0.7614 - val_loss: 0.5346 - val_acc: 0.8307\n",
      "Epoch 2/2\n",
      "30240/30240 [==============================] - 79s 3ms/step - loss: 0.3276 - acc: 0.8939 - val_loss: 0.5626 - val_acc: 0.8265\n"
     ]
    }
   ],
   "source": [
    "\n",
    "# model.fit trains the model\n",
    "# The validation_split param tells Keras what % of our training data should be used in the validation set\n",
    "# You can see the validation loss decreasing slowly when you run this\n",
    "# Because val_loss is no longer decreasing we stop training to prevent overfitting\n",
    "history = model.fit(x_train, y_train,\n",
    "                    batch_size=batch_size,\n",
    "                    epochs=epochs,\n",
    "                    verbose=1,\n",
    "                    validation_split=0.1)"
   ]
  },
  {
   "cell_type": "code",
   "execution_count": 63,
   "metadata": {},
   "outputs": [
    {
     "name": "stdout",
     "output_type": "stream",
     "text": [
      "8401/8401 [==============================] - 3s 392us/step\n",
      "Test score: 0.5380956962014675\n",
      "Test accuracy: 0.8368051422662557\n"
     ]
    }
   ],
   "source": [
    "score = model.evaluate(x_test, y_test,\n",
    "                       batch_size=batch_size, verbose=1)\n",
    "print('Test score:', score[0])\n",
    "print('Test accuracy:', score[1])"
   ]
  },
  {
   "cell_type": "code",
   "execution_count": 64,
   "metadata": {},
   "outputs": [
    {
     "name": "stdout",
     "output_type": "stream",
     "text": [
      "set locale during app startup  i ve managed to cha ...\n",
      "Actual label:android\n",
      "Predicted label: android\n",
      "\n",
      "how do i vertically and horizontally centre a div  ...\n",
      "Actual label:css\n",
      "Predicted label: css\n",
      "\n",
      "why for with float step dont do last iteration   w ...\n",
      "Actual label:php\n",
      "Predicted label: php\n",
      "\n",
      "how do you group select_tag and text_field_tag   i ...\n",
      "Actual label:ruby-on-rails\n",
      "Predicted label: ruby-on-rails\n",
      "\n",
      "re sizing array <pre><code>int oldlength = numbers ...\n",
      "Actual label:c#\n",
      "Predicted label: c#\n",
      "\n",
      "sql count of related products via foreign key  we  ...\n",
      "Actual label:sql\n",
      "Predicted label: sql\n",
      "\n",
      "mysql query - how to count foreign key occurence f ...\n",
      "Actual label:mysql\n",
      "Predicted label: mysql\n",
      "\n",
      "refreshing a max7129 led display  i am new to pyth ...\n",
      "Actual label:python\n",
      "Predicted label: python\n",
      "\n",
      "center website content no matter what the browser  ...\n",
      "Actual label:css\n",
      "Predicted label: css\n",
      "\n",
      "report generation design patterns in rails   i am  ...\n",
      "Actual label:ruby-on-rails\n",
      "Predicted label: ruby-on-rails\n",
      "\n",
      "passing by value and reference c#  i know that val ...\n",
      "Actual label:c#\n",
      "Predicted label: c#\n",
      "\n",
      "asp.net cache doens t work well in windows azure   ...\n",
      "Actual label:asp.net\n",
      "Predicted label: asp.net\n",
      "\n",
      "9patch image not strectching  i am using <a href=  ...\n",
      "Actual label:android\n",
      "Predicted label: html\n",
      "\n",
      "how to serialize a class from list   i have a list ...\n",
      "Actual label:c#\n",
      "Predicted label: c#\n",
      "\n",
      "what is good practice in choosing the return value ...\n",
      "Actual label:java\n",
      "Predicted label: java\n",
      "\n",
      "downcasting in settings class - visual studio  i m ...\n",
      "Actual label:c#\n",
      "Predicted label: c#\n",
      "\n",
      "how do i get that fading blue highlight (from 3.0+ ...\n",
      "Actual label:android\n",
      "Predicted label: iphone\n",
      "\n",
      "badge number is not increasing on application icon ...\n",
      "Actual label:ios\n",
      "Predicted label: ios\n",
      "\n",
      "attach hidden value to a visible input  is there a ...\n",
      "Actual label:html\n",
      "Predicted label: html\n",
      "\n",
      "why must my objc implementation class #import the  ...\n",
      "Actual label:objective-c\n",
      "Predicted label: objective-c\n",
      "\n",
      "alternative to using substring  substring makes it ...\n",
      "Actual label:c#\n",
      "Predicted label: c#\n",
      "\n",
      "using javascript in header instead of footer   her ...\n",
      "Actual label:javascript\n",
      "Predicted label: javascript\n",
      "\n",
      "ios - sending data between two apps on two devices ...\n",
      "Actual label:ios\n",
      "Predicted label: ios\n",
      "\n",
      "specific letters and digit in a string in c progra ...\n",
      "Actual label:c\n",
      "Predicted label: c\n",
      "\n",
      "audio recording nullpointerexception  i ve seen se ...\n",
      "Actual label:android\n",
      "Predicted label: android\n",
      "\n",
      "why is the ng-click handler being fired twice   i  ...\n",
      "Actual label:angularjs\n",
      "Predicted label: angularjs\n",
      "\n",
      "how to slice two images into one image in iphone   ...\n",
      "Actual label:iphone\n",
      "Predicted label: iphone\n",
      "\n",
      "remove red underline: getdepartmentsbydepartmentid ...\n",
      "Actual label:c#\n",
      "Predicted label: c#\n",
      "\n",
      "what does it mean  class x;  on header file   the  ...\n",
      "Actual label:c++\n",
      "Predicted label: c++\n",
      "\n",
      "html - removing underline on anchor without css  t ...\n",
      "Actual label:html\n",
      "Predicted label: javascript\n",
      "\n"
     ]
    }
   ],
   "source": [
    "text_labels = encoder.classes_ \n",
    "\n",
    "for i in range(30):\n",
    "    prediction = model.predict(np.array([x_test[i]]))\n",
    "    predicted_label = text_labels[np.argmax(prediction)]\n",
    "    print(test_posts.iloc[i][:50], \"...\")\n",
    "    print('Actual label:' + test_tags.iloc[i])\n",
    "    print(\"Predicted label: \" + predicted_label + \"\\n\")"
   ]
  },
  {
   "cell_type": "code",
   "execution_count": 65,
   "metadata": {},
   "outputs": [],
   "source": [
    "\n",
    "y_softmax = model.predict(x_test)\n",
    "\n",
    "y_test_1d = []\n",
    "y_pred_1d = []\n",
    "\n",
    "for i in range(len(y_test)):\n",
    "    probs = y_test[i]\n",
    "    index_arr = np.nonzero(probs)\n",
    "    one_hot_index = index_arr[0].item(0)\n",
    "    y_test_1d.append(one_hot_index)\n",
    "\n",
    "for i in range(0, len(y_softmax)):\n",
    "    probs = y_softmax[i]\n",
    "    predicted_index = np.argmax(probs)\n",
    "    y_pred_1d.append(predicted_index)"
   ]
  },
  {
   "cell_type": "code",
   "execution_count": null,
   "metadata": {},
   "outputs": [],
   "source": [
    "def plot_confusion_matrix(cm, classes,\n",
    "                          title='Confusion matrix',\n",
    "                          cmap=plt.cm.Blues):\n",
    "    \"\"\"\n",
    "    This function prints and plots the confusion matrix.\n",
    "    Normalization can be applied by setting `normalize=True`.\n",
    "    \"\"\"\n",
    "\n",
    "    cm = cm.astype('float') / cm.sum(axis=1)[:, np.newaxis]\n",
    "\n",
    "    plt.imshow(cm, interpolation='nearest', cmap=cmap)\n",
    "    plt.title(title, fontsize=30)\n",
    "    plt.colorbar()\n",
    "    tick_marks = np.arange(len(classes))\n",
    "    plt.xticks(tick_marks, classes, rotation=45, fontsize=22)\n",
    "    plt.yticks(tick_marks, classes, fontsize=22)\n",
    "\n",
    "    fmt = '.2f'\n",
    "    thresh = cm.max() / 2.\n",
    "    for i, j in itertools.product(range(cm.shape[0]), range(cm.shape[1])):\n",
    "        plt.text(j, i, format(cm[i, j], fmt),\n",
    "                 horizontalalignment=\"center\",\n",
    "                 color=\"white\" if cm[i, j] > thresh else \"black\")\n",
    "\n",
    "    plt.ylabel('True label', fontsize=25)\n",
    "    plt.xlabel('Predicted label', fontsize=25)"
   ]
  },
  {
   "cell_type": "code",
   "execution_count": 67,
   "metadata": {},
   "outputs": [],
   "source": [
    "import pickle\n",
    "filename = '/home/adithya/Desktop/gtokenize'\n",
    "pickle.dump(tokenize, open(filename, 'wb'))\n",
    "\n",
    "filename = '/home/adithya/Desktop/gNmodel'\n",
    "pickle.dump(model, open(filename, 'wb'))\n",
    "\n",
    "import pickle\n",
    "filename = '/home/adithya/Desktop/gtext_labels'\n",
    "pickle.dump(text_labels, open(filename, 'wb'))"
   ]
  },
  {
   "cell_type": "code",
   "execution_count": 66,
   "metadata": {},
   "outputs": [
    {
     "name": "stdout",
     "output_type": "stream",
     "text": [
      "python\n"
     ]
    }
   ],
   "source": [
    "text=['what is the uses of __init__ function?']\n",
    "yes = tokenize.texts_to_matrix(text)\n",
    "prediction = model.predict(np.array(yes))\n",
    "predicted_label = text_labels[np.argmax(prediction)]\n",
    "print(predicted_label)\n"
   ]
  },
  {
   "cell_type": "code",
   "execution_count": null,
   "metadata": {},
   "outputs": [],
   "source": []
  }
 ],
 "metadata": {
  "kernelspec": {
   "display_name": "Python 3",
   "language": "python",
   "name": "python3"
  },
  "language_info": {
   "codemirror_mode": {
    "name": "ipython",
    "version": 3
   },
   "file_extension": ".py",
   "mimetype": "text/x-python",
   "name": "python",
   "nbconvert_exporter": "python",
   "pygments_lexer": "ipython3",
   "version": "3.7.1"
  }
 },
 "nbformat": 4,
 "nbformat_minor": 2
}
